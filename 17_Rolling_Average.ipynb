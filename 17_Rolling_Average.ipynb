{
  "nbformat": 4,
  "nbformat_minor": 0,
  "metadata": {
    "colab": {
      "name": "17_Rolling Average.ipynb",
      "private_outputs": true,
      "provenance": [],
      "collapsed_sections": [],
      "mount_file_id": "1LFMPynNUrqJKS6Fr5e0GV1U8VhmXY0CQ",
      "authorship_tag": "ABX9TyMrJMUvNy4GqEhwCCDfyNG5",
      "include_colab_link": true
    },
    "kernelspec": {
      "name": "python3",
      "display_name": "Python 3"
    },
    "language_info": {
      "name": "python"
    }
  },
  "cells": [
    {
      "cell_type": "markdown",
      "metadata": {
        "id": "view-in-github",
        "colab_type": "text"
      },
      "source": [
        "<a href=\"https://colab.research.google.com/github/RockhoRockho/BFS-samsung-Question/blob/main/17_Rolling_Average.ipynb\" target=\"_parent\"><img src=\"https://colab.research.google.com/assets/colab-badge.svg\" alt=\"Open In Colab\"/></a>"
      ]
    },
    {
      "cell_type": "code",
      "source": [
        "from google.colab import drive\n",
        "drive.mount('/content/drive')"
      ],
      "metadata": {
        "id": "DRvXAS73n5EB"
      },
      "execution_count": null,
      "outputs": []
    },
    {
      "cell_type": "code",
      "source": [
        "import cv2\n",
        "import random\n",
        "import numpy as np\n",
        "import pandas as pd\n",
        "import matplotlib.pyplot as plt\n",
        "from pprint import pprint\n",
        "from glob import glob\n",
        "# 프로그램이 의도한 상황으로 돌아가고 있는 중인지 상태 확인 모듈\n",
        "from tqdm import tqdm"
      ],
      "metadata": {
        "id": "Qk6UXzRtqJ7-"
      },
      "execution_count": null,
      "outputs": []
    },
    {
      "cell_type": "code",
      "source": [
        "LABEL_INT_DICT = np.unique(pd.read_csv('drive/MyDrive/ucf11_train_vid.csv')['label'])\n",
        "pprint(LABEL_INT_DICT)\n",
        "LABEL_STR_DICT = {k:v for v,k in enumerate(LABEL_INT_DICT)}\n",
        "pprint(LABEL_STR_DICT)"
      ],
      "metadata": {
        "id": "ypiliCQtqA6E"
      },
      "execution_count": null,
      "outputs": []
    },
    {
      "cell_type": "code",
      "execution_count": null,
      "metadata": {
        "id": "Tr51MtsymYOT"
      },
      "outputs": [],
      "source": [
        "import cv2\n",
        "import os\n",
        "import tensorflow_hub as hub\n",
        "import tensorflow as tf\n",
        "from tensorflow import keras\n",
        "\n",
        "os.environ['CUDA_VISIBLE_DEVICES'] = '1'\n",
        "model = keras.models.load_model(\n",
        "    'drive/MyDrive/ucf11_weights/10-0.98.hdf5',\n",
        "    custom_objects={'KerasLayer': hub.KerasLayer}\n",
        ")\n",
        "\n",
        "model.build([None, 256, 256, 3])\n",
        "model.summary()"
      ]
    },
    {
      "cell_type": "code",
      "source": [
        "import pandas as pd\n",
        "import numpy as np\n",
        "\n",
        "csv_path = 'drive/MyDrive/ucf11_valid_vid.csv'\n",
        "valid_df = pd.read_csv(csv_path)\n",
        "\n",
        "idx = 21\n",
        "elem = valid_df.iloc[idx]\n",
        "\n",
        "cap = cv2.VideoCapture(\n",
        "    elem['file_path']\n",
        ")\n",
        "\n",
        "fourcc = cv2.VideoWriter_fourcc(*'MJPG')\n",
        "writer = cv2.VideoWriter('ori.avi', fourcc, 30, (256, 256), True)\n",
        "\n",
        "while True:\n",
        "  ret, frame = cap.read()\n",
        "  if not ret:\n",
        "    break\n",
        "\n",
        "  frame_ = frame.copy()\n",
        "  frame_ = cv2.cvtColor(frame_, cv2.COLOR_BGR2RGB)\n",
        "  frame_ = cv2.resize(frame_, (256, 256))\n",
        "  frame_ = frame_.astype('float32')\n",
        "  frame_ = frame_ / 255.\n",
        "\n",
        "  pred = model.predict(frame_[np.newaxis, ...])\n",
        "  label = LABEL_INT_DICT[np.argmax(pred)]\n",
        "\n",
        "  frame = cv2.resize(frame, (256, 256))\n",
        "  cv2.putText(frame, label, (50, 45), cv2.FONT_HERSHEY_SIMPLEX, 1.5, (0, 255, 0), 5)\n",
        "  writer.write(frame)\n",
        "  \n",
        "cap.release()\n",
        "writer.release()"
      ],
      "metadata": {
        "id": "Gy5EkalOn1oq"
      },
      "execution_count": null,
      "outputs": []
    },
    {
      "cell_type": "code",
      "source": [
        "cap = cv2.VideoCapture(\n",
        "    elem['file_path']\n",
        ")\n",
        "\n",
        "fourcc = cv2.VideoWriter_fourcc(*'MJPG')\n",
        "writer = cv2.VideoWriter('roll.avi', fourcc, 30, (256, 256), True)\n",
        "\n",
        "queue = []\n",
        "while True:\n",
        "  ret, frame = cap.read()\n",
        "  if not ret:\n",
        "    break\n",
        "\n",
        "  frame_ = frame.copy()\n",
        "  frame_ = cv2.cvtColor(frame_, cv2.COLOR_BGR2RGB)\n",
        "  frame_ = cv2.resize(frame_, (256, 256))\n",
        "  frame_ = frame_.astype('float32')\n",
        "  frame_ = frame_ / 255.\n",
        "\n",
        "  pred = model.predict(frame_[np.newaxis, ...])\n",
        "  queue.append(pred)\n",
        "  \n",
        "  results = np.array(queue).mean(axis=0)\n",
        "  label = LABEL_INT_DICT[np.argmax(results)]\n",
        "\n",
        "  frame = cv2.resize(frame, (256, 256))\n",
        "  cv2.putText(frame, label, (50, 45), cv2.FONT_HERSHEY_SIMPLEX, 1.5, (0, 255, 0), 5)\n",
        "  writer.write(frame)\n",
        "  \n",
        "cap.release()\n",
        "writer.release()"
      ],
      "metadata": {
        "id": "OUp843O_qDO7"
      },
      "execution_count": null,
      "outputs": []
    },
    {
      "cell_type": "code",
      "source": [
        ""
      ],
      "metadata": {
        "id": "PI_Tuc8Vs_50"
      },
      "execution_count": null,
      "outputs": []
    }
  ]
}